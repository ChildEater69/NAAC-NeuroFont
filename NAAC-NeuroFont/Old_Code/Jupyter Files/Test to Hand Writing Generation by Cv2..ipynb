{
 "cells": [
  {
   "cell_type": "code",
   "execution_count": 2,
   "id": "4b9087e0",
   "metadata": {},
   "outputs": [
    {
     "name": "stdout",
     "output_type": "stream",
     "text": [
      "Image saved as 'image.png'. Please open the file using an image viewer to see the result.\n"
     ]
    }
   ],
   "source": [
    "import cv2\n",
    "import numpy as np\n",
    "\n",
    "# Set the text and font properties\n",
    "text = \"My name is Avdhesh Kumar Sharma\"\n",
    "font_size = 1\n",
    "font_path = cv2.FONT_HERSHEY_SIMPLEX\n",
    "\n",
    "# Create a blank image with a white background\n",
    "background_color = (255, 255, 255)  # RGB values for white\n",
    "image_width = 1920  # Width of the page in pixels\n",
    "image_height = 1080  # Height of the page in pixels\n",
    "image = np.ones((image_height, image_width, 3), np.uint8) * background_color\n",
    "\n",
    "# Calculate the size of the text\n",
    "text_width, text_height = cv2.getTextSize(text, font_path, font_size, 2)[0]\n",
    "\n",
    "# Set the position to top-left corner\n",
    "text_x = 10\n",
    "text_y = 30\n",
    "\n",
    "# Draw the text on the image\n",
    "cv2.putText(image, text, (text_x, text_y), font_path, font_size, (0, 0, 0), 2)\n",
    "\n",
    "# Save the image\n",
    "cv2.imwrite(r\"C:\\Users\\Acer pc\\Downloads\\image.png\", image)\n",
    "\n",
    "print(\"Image saved as 'image.png'. Please open the file using an image viewer to see the result.\")\n"
   ]
  },
  {
   "cell_type": "markdown",
   "id": "acba8fc6",
   "metadata": {},
   "source": [
    "## By using Storm Delivery.ttf"
   ]
  },
  {
   "cell_type": "code",
   "execution_count": 4,
   "id": "075a65f5",
   "metadata": {},
   "outputs": [
    {
     "name": "stdout",
     "output_type": "stream",
     "text": [
      "Image saved as 'image.png'. Please open the file using an image viewer to see the result.\n"
     ]
    }
   ],
   "source": [
    "import cv2\n",
    "import numpy as np\n",
    "\n",
    "# Set the text and font properties\n",
    "text = \"My name is Avdhesh Kumar Sharma\"\n",
    "font_size = 1\n",
    "font_path = r\"C:\\Users\\Acer pc\\Downloads\\stork_delivery\\Stork Delivery.ttf\"  # Replace with the path to your desired font file\n",
    "\n",
    "# Create a blank image with a white background\n",
    "background_color = (255, 255, 255)  # RGB values for white\n",
    "image_width = 1920  # Width of the page in pixels\n",
    "image_height = 1080  # Height of the page in pixels\n",
    "image = np.ones((image_height, image_width, 3), np.uint8) * background_color\n",
    "\n",
    "# Calculate the size of the text\n",
    "text_width, text_height = cv2.getTextSize(text, cv2.FONT_HERSHEY_SIMPLEX, font_size, 2)[0]\n",
    "\n",
    "# Set the position to top-left corner\n",
    "text_x = 10\n",
    "text_y = 30\n",
    "\n",
    "# Load the desired font\n",
    "font = cv2.FONT_HERSHEY_SIMPLEX\n",
    "\n",
    "# Draw the text on the image\n",
    "cv2.putText(image, text, (text_x, text_y), font, font_size, (0, 0, 0), 2)\n",
    "\n",
    "# Save the image\n",
    "cv2.imwrite(r\"C:\\Users\\Acer pc\\Downloads\\image1.png\", image)\n",
    "\n",
    "print(\"Image saved as 'image.png'. Please open the file using an image viewer to see the result.\")\n"
   ]
  },
  {
   "cell_type": "code",
   "execution_count": null,
   "id": "879e8f6f",
   "metadata": {},
   "outputs": [],
   "source": []
  }
 ],
 "metadata": {
  "kernelspec": {
   "display_name": "Python 3 (ipykernel)",
   "language": "python",
   "name": "python3"
  },
  "language_info": {
   "codemirror_mode": {
    "name": "ipython",
    "version": 3
   },
   "file_extension": ".py",
   "mimetype": "text/x-python",
   "name": "python",
   "nbconvert_exporter": "python",
   "pygments_lexer": "ipython3",
   "version": "3.10.9"
  }
 },
 "nbformat": 4,
 "nbformat_minor": 5
}
