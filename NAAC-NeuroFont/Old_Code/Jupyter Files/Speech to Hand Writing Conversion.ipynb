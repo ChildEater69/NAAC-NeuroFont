{
 "cells": [
  {
   "cell_type": "code",
   "execution_count": 1,
   "id": "88fefa25",
   "metadata": {},
   "outputs": [
    {
     "name": "stdout",
     "output_type": "stream",
     "text": [
      "Please say something\n",
      "Recognizing Now .... \n",
      "You have said: hello hello my name is Avdhesh Kumar Sharma and we are working on speech 2003 conversion let the hip region working or not\n",
      "Audio Recorded Successfully\n",
      "Text file saved successfully\n"
     ]
    }
   ],
   "source": [
    "import speech_recognition as sr\n",
    "\n",
    "def main():\n",
    "    r = sr.Recognizer()\n",
    "\n",
    "    with sr.Microphone() as source:\n",
    "        r.adjust_for_ambient_noise(source)\n",
    "\n",
    "        print(\"Please say something\")\n",
    "\n",
    "        # Record audio for 10 seconds\n",
    "        audio = r.listen(source, timeout=5)\n",
    "\n",
    "        print(\"Recognizing Now .... \")\n",
    "\n",
    "        # Recognize speech using Google Speech Recognition\n",
    "        try:\n",
    "            recognized_text = r.recognize_google(audio)\n",
    "            print(\"You have said: \" + recognized_text)\n",
    "            print(\"Audio Recorded Successfully\")\n",
    "\n",
    "            # Save the audio file\n",
    "            audio_path = r\"C:\\Users\\Acer pc\\Downloads\\Recordings\\recorded.wav\"\n",
    "            with open(audio_path, \"wb\") as f:\n",
    "                f.write(audio.get_wav_data())\n",
    "\n",
    "            # Save the text file\n",
    "            text_path = r\"C:\\Users\\Acer pc\\Downloads\\Recordings\\recorded.txt\"\n",
    "            with open(text_path, \"w\") as f:\n",
    "                f.write(recognized_text)\n",
    "                print(\"Text file saved successfully\")\n",
    "\n",
    "        except Exception as e:\n",
    "            print(\"Error: \" + str(e))\n",
    "\n",
    "\n",
    "if __name__ == \"__main__\":\n",
    "    main()\n"
   ]
  },
  {
   "cell_type": "code",
   "execution_count": 2,
   "id": "ac22eab6",
   "metadata": {},
   "outputs": [
    {
     "name": "stderr",
     "output_type": "stream",
     "text": [
      "C:\\Users\\Acer pc\\AppData\\Local\\Temp\\ipykernel_16292\\934585708.py:24: DeprecationWarning: textsize is deprecated and will be removed in Pillow 10 (2023-07-01). Use textbbox or textlength instead.\n",
      "  text_width, text_height = draw.textsize(text, font=font)\n"
     ]
    },
    {
     "data": {
      "image/png": "[encoded data removed]",
      "text/plain": [
       "<Figure size 640x480 with 1 Axes>"
      ]
     },
     "metadata": {},
     "output_type": "display_data"
    }
   ],
   "source": [
    "from PIL import Image, ImageDraw, ImageFont\n",
    "import matplotlib.pyplot as plt\n",
    "\n",
    "font_size = 40\n",
    "font_path = r\"C:\\Users\\Acer pc\\Downloads\\stork_delivery\\Stork Delivery.ttf\"  # Replace with the path to your desired font file\n",
    "txt_path = r\"C:\\Users\\Acer pc\\Downloads\\Recordings\\recorded.txt\"  # Path to the recorded.txt file\n",
    "\n",
    "# Read the text from the file\n",
    "with open(txt_path, 'r') as file:\n",
    "    text = file.read()\n",
    "\n",
    "# Create a blank image with a white background\n",
    "background_color = (255, 255, 255)  # RGB values for white\n",
    "text_color = (0, 0, 0)  # RGB values for black\n",
    "image_width = 1920  # Width of the page in pixels\n",
    "image_height = 1080  # Height of the page in pixels\n",
    "image = Image.new(\"RGB\", (image_width, image_height), background_color)\n",
    "draw = ImageDraw.Draw(image)\n",
    "\n",
    "# Load the desired font\n",
    "font = ImageFont.truetype(font_path, font_size)\n",
    "\n",
    "# Calculate the size of the text\n",
    "text_width, text_height = draw.textsize(text, font=font)\n",
    "\n",
    "# Set the position to center the text on the image\n",
    "text_x = 1\n",
    "text_y = 1\n",
    "\n",
    "# Draw the text on the image\n",
    "draw.text((text_x, text_y), text, font=font, fill=text_color)\n",
    "\n",
    "# Save the image\n",
    "image.save(r\"C:\\Users\\Acer pc\\Downloads\\Trials\\try10.png\")\n",
    "\n",
    "# Display the image\n",
    "plt.imshow(image)\n",
    "plt.axis('off')\n",
    "plt.show()\n"
   ]
  },
  {
   "cell_type": "markdown",
   "id": "96e474a0",
   "metadata": {},
   "source": [
    "## Combined Code"
   ]
  },
  {
   "cell_type": "code",
   "execution_count": 7,
   "id": "54714ac9",
   "metadata": {},
   "outputs": [
    {
     "name": "stdout",
     "output_type": "stream",
     "text": [
      "Please say something\n",
      "Recognizing Now .... \n",
      "You have said: save the text file text another cool path equal to post office\n",
      "Audio Recorded Successfully\n",
      "Text file saved successfully\n"
     ]
    },
    {
     "name": "stderr",
     "output_type": "stream",
     "text": [
      "C:\\Users\\Acer pc\\AppData\\Local\\Temp\\ipykernel_16292\\3304438237.py:44: DeprecationWarning: textsize is deprecated and will be removed in Pillow 10 (2023-07-01). Use textbbox or textlength instead.\n",
      "  text_width, text_height = draw.textsize(text, font=font)\n"
     ]
    },
    {
     "data": {
      "image/png": "[encoded data removed]",
      "text/plain": [
       "<Figure size 640x480 with 1 Axes>"
      ]
     },
     "metadata": {},
     "output_type": "display_data"
    }
   ],
   "source": [
    "import speech_recognition as sr\n",
    "from PIL import Image, ImageDraw, ImageFont\n",
    "import matplotlib.pyplot as plt\n",
    "\n",
    "def record_audio():\n",
    "    r = sr.Recognizer()\n",
    "\n",
    "    with sr.Microphone() as source:\n",
    "        r.adjust_for_ambient_noise(source)\n",
    "\n",
    "        print(\"Please say something\")\n",
    "\n",
    "        audio = r.listen(source)\n",
    "\n",
    "        print(\"Recognizing Now .... \")\n",
    "\n",
    "        # Recognize speech using Google Speech Recognition\n",
    "        try:\n",
    "            recognized_text = r.recognize_google(audio)\n",
    "            print(\"You have said: \" + recognized_text)\n",
    "            print(\"Audio Recorded Successfully\")\n",
    "            return recognized_text, audio\n",
    "\n",
    "        except Exception as e:\n",
    "            print(\"Error: \" + str(e))\n",
    "            return None, None\n",
    "\n",
    "def create_image_with_text(text):\n",
    "    font_size = 40\n",
    "    font_path = r\"C:\\Users\\Acer pc\\Downloads\\stork_delivery\\Stork Delivery.ttf\"  # Replace with the path to your desired font file\n",
    "\n",
    "    # Create a blank image with a white background\n",
    "    background_color = (255, 255, 255)  # RGB values for white\n",
    "    text_color = (0, 0, 0)  # RGB values for black\n",
    "    image_width = 1920  # Width of the page in pixels\n",
    "    image_height = 1080  # Height of the page in pixels\n",
    "    image = Image.new(\"RGB\", (image_width, image_height), background_color)\n",
    "    draw = ImageDraw.Draw(image)\n",
    "\n",
    "    # Load the desired font\n",
    "    font = ImageFont.truetype(font_path, font_size)\n",
    "\n",
    "    # Calculate the size of the text\n",
    "    text_width, text_height = draw.textsize(text, font=font)\n",
    "\n",
    "    # Set the position to  the text on top leftt on the image\n",
    "    text_x = 0\n",
    "    text_y = 1\n",
    "\n",
    "    # Draw the text on the image\n",
    "    draw.text((text_x, text_y), text, font=font, fill=text_color)\n",
    "\n",
    "    return image\n",
    "\n",
    "def main():\n",
    "    recognized_text, audio = record_audio()\n",
    "    if recognized_text and audio:\n",
    "        # Save the audio file\n",
    "        audio_path = r\"C:\\Users\\Acer pc\\Downloads\\Recordings\\recorded1.wav\"\n",
    "        with open(audio_path, \"wb\") as f:\n",
    "            f.write(audio.get_wav_data())\n",
    "\n",
    "        # Save the text file\n",
    "        text_path = r\"C:\\Users\\Acer pc\\Downloads\\Recordings\\recorded1.txt\"\n",
    "        with open(text_path, \"w\") as f:\n",
    "            f.write(recognized_text)\n",
    "            print(\"Text file saved successfully\")\n",
    "\n",
    "        # Create image with text\n",
    "        image = create_image_with_text(recognized_text)\n",
    "\n",
    "        # Save the image\n",
    "        image_path = r\"C:\\Users\\Acer pc\\Downloads\\Trials\\try11.png\"\n",
    "        image.save(image_path)\n",
    "\n",
    "        # Display the image\n",
    "        plt.imshow(image)\n",
    "        plt.axis('off')\n",
    "        plt.show()\n",
    "\n",
    "if __name__ == \"__main__\":\n",
    "    main()\n"
   ]
  },
  {
   "cell_type": "code",
   "execution_count": null,
   "id": "e6889369",
   "metadata": {},
   "outputs": [],
   "source": []
  }
 ],
 "metadata": {
  "kernelspec": {
   "display_name": "Python 3 (ipykernel)",
   "language": "python",
   "name": "python3"
  },
  "language_info": {
   "codemirror_mode": {
    "name": "ipython",
    "version": 3
   },
   "file_extension": ".py",
   "mimetype": "text/x-python",
   "name": "python",
   "nbconvert_exporter": "python",
   "pygments_lexer": "ipython3",
   "version": "3.10.9"
  }
 },
 "nbformat": 4,
 "nbformat_minor": 5
}
