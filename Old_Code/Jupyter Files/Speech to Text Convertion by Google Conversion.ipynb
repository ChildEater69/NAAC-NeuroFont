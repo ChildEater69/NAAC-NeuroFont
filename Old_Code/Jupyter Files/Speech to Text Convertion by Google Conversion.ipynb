{
 "cells": [
  {
   "cell_type": "code",
   "execution_count": 1,
   "id": "0c01b058",
   "metadata": {},
   "outputs": [
    {
     "name": "stdout",
     "output_type": "stream",
     "text": [
      "Requirement already satisfied: SpeechRecognition in c:\\users\\acer pc\\anaconda3\\new folder\\lib\\site-packages (3.10.0)\n",
      "Requirement already satisfied: requests>=2.26.0 in c:\\users\\acer pc\\anaconda3\\new folder\\lib\\site-packages (from SpeechRecognition) (2.28.1)\n",
      "Requirement already satisfied: certifi>=2017.4.17 in c:\\users\\acer pc\\anaconda3\\new folder\\lib\\site-packages (from requests>=2.26.0->SpeechRecognition) (2022.12.7)\n",
      "Requirement already satisfied: idna<4,>=2.5 in c:\\users\\acer pc\\anaconda3\\new folder\\lib\\site-packages (from requests>=2.26.0->SpeechRecognition) (3.4)\n",
      "Requirement already satisfied: urllib3<1.27,>=1.21.1 in c:\\users\\acer pc\\anaconda3\\new folder\\lib\\site-packages (from requests>=2.26.0->SpeechRecognition) (1.26.14)\n",
      "Requirement already satisfied: charset-normalizer<3,>=2 in c:\\users\\acer pc\\anaconda3\\new folder\\lib\\site-packages (from requests>=2.26.0->SpeechRecognition) (2.0.4)\n"
     ]
    }
   ],
   "source": [
    "#downloading the packages that are needed\n",
    "!pip install SpeechRecognition"
   ]
  },
  {
   "cell_type": "code",
   "execution_count": 2,
   "id": "0a8dbe2a",
   "metadata": {},
   "outputs": [
    {
     "name": "stdout",
     "output_type": "stream",
     "text": [
      "Requirement already satisfied: PyAudio in c:\\users\\acer pc\\anaconda3\\new folder\\lib\\site-packages (0.2.13)\n",
      "Note: you may need to restart the kernel to use updated packages.\n"
     ]
    }
   ],
   "source": [
    "pip install PyAudio"
   ]
  },
  {
   "cell_type": "markdown",
   "id": "9287ee4f",
   "metadata": {},
   "source": [
    "## Basic Implementation of recognize speech by using google"
   ]
  },
  {
   "cell_type": "code",
   "execution_count": 3,
   "id": "b61a6dae",
   "metadata": {},
   "outputs": [
    {
     "name": "stdout",
     "output_type": "stream",
     "text": [
      "Please say something\n",
      "Recognizing Now .... \n",
      "You have said \n",
      "hello my name is Avdhesh Kumar Sharma what's your working on a new project today\n",
      "Audio Recorded Successfully \n",
      " \n"
     ]
    }
   ],
   "source": [
    "import speech_recognition as sr\n",
    "\n",
    "def main():\n",
    " \n",
    "    r = sr.Recognizer()\n",
    " \n",
    "    with sr.Microphone() as source:\n",
    "        r.adjust_for_ambient_noise(source)\n",
    " \n",
    "        print(\"Please say something\")\n",
    " \n",
    "        audio = r.listen(source)\n",
    " \n",
    "        print(\"Recognizing Now .... \")\n",
    " \n",
    " \n",
    "        # recognize speech using google\n",
    " \n",
    "        try:\n",
    "            print(\"You have said \\n\" + r.recognize_google(audio))\n",
    "            print(\"Audio Recorded Successfully \\n \")\n",
    "        except Exception as e:\n",
    "            print(\"Error :  \" + str(e))\n",
    "        # write audio\n",
    "        with open(\"recorded.wav\", \"wb\") as f:\n",
    "            f.write(audio.get_wav_data())\n",
    " \n",
    " \n",
    "if __name__ == \"__main__\":\n",
    "    main()\n",
    " "
   ]
  },
  {
   "cell_type": "markdown",
   "id": "a6b5962e",
   "metadata": {},
   "source": [
    "## Audio to Text"
   ]
  },
  {
   "cell_type": "code",
   "execution_count": 5,
   "id": "a8adfdbb",
   "metadata": {},
   "outputs": [
    {
     "name": "stdout",
     "output_type": "stream",
     "text": [
      "Please say something\n",
      "Recognizing Now .... \n",
      "You have said: we are working on a speech to text conversion by Google now we are recording only for 3 seconds\n",
      "Audio Recorded Successfully\n",
      "Text file saved successfully\n"
     ]
    }
   ],
   "source": [
    "import speech_recognition as sr\n",
    "\n",
    "def main():\n",
    "    r = sr.Recognizer()\n",
    "\n",
    "    with sr.Microphone() as source:\n",
    "        r.adjust_for_ambient_noise(source)\n",
    "\n",
    "        print(\"Please say something\")\n",
    "\n",
    "        audio = r.listen(source)\n",
    "\n",
    "        print(\"Recognizing Now .... \")\n",
    "\n",
    "        # Recognize speech using Google Speech Recognition\n",
    "        try:\n",
    "            recognized_text = r.recognize_google(audio)\n",
    "            print(\"You have said: \" + recognized_text)\n",
    "            print(\"Audio Recorded Successfully\")\n",
    "\n",
    "            # Save the audio file\n",
    "            audio_path = r\"C:\\Users\\Acer pc\\Downloads\\Recordings\\recorded.wav\"\n",
    "            with open(audio_path, \"wb\") as f:\n",
    "                f.write(audio.get_wav_data())\n",
    "\n",
    "            # Save the text file\n",
    "            text_path = r\"C:\\Users\\Acer pc\\Downloads\\Recordings\\recorded.txt\"\n",
    "            with open(text_path, \"w\") as f:\n",
    "                f.write(recognized_text)\n",
    "                print(\"Text file saved successfully\")\n",
    "\n",
    "        except Exception as e:\n",
    "            print(\"Error: \" + str(e))\n",
    "\n",
    "\n",
    "if __name__ == \"__main__\":\n",
    "    main()\n",
    "\n",
    "    \n",
    "## It is Recording for 3 Sec only , so we need to make it into more time for recording ."
   ]
  },
  {
   "cell_type": "markdown",
   "id": "9e6cf144",
   "metadata": {},
   "source": [
    "## Speech to Text for 10 sec ."
   ]
  },
  {
   "cell_type": "code",
   "execution_count": 12,
   "id": "aae222df",
   "metadata": {},
   "outputs": [
    {
     "name": "stdout",
     "output_type": "stream",
     "text": [
      "Please say something\n",
      "Recognizing Now .... \n",
      "You have said: hello my name is Avdhesh Kumar Sharma what what is your name\n",
      "Audio Recorded Successfully\n",
      "Text file saved successfully\n"
     ]
    }
   ],
   "source": [
    "import speech_recognition as sr\n",
    "\n",
    "def main():\n",
    "    r = sr.Recognizer()\n",
    "\n",
    "    with sr.Microphone() as source:\n",
    "        r.adjust_for_ambient_noise(source)\n",
    "\n",
    "        print(\"Please say something\")\n",
    "\n",
    "        # Record audio for 10 seconds\n",
    "        audio = r.listen(source, timeout=10)\n",
    "\n",
    "        print(\"Recognizing Now .... \")\n",
    "\n",
    "        # Recognize speech using Google Speech Recognition\n",
    "        try:\n",
    "            recognized_text = r.recognize_google(audio)\n",
    "            print(\"You have said: \" + recognized_text)\n",
    "            print(\"Audio Recorded Successfully\")\n",
    "\n",
    "            # Save the audio file\n",
    "            audio_path = r\"C:\\Users\\Acer pc\\Downloads\\Recordings\\recorded.wav\"\n",
    "            with open(audio_path, \"wb\") as f:\n",
    "                f.write(audio.get_wav_data())\n",
    "\n",
    "            # Save the text file\n",
    "            text_path = r\"C:\\Users\\Acer pc\\Downloads\\Recordings\\recorded.txt\"\n",
    "            with open(text_path, \"w\") as f:\n",
    "                f.write(recognized_text)\n",
    "                print(\"Text file saved successfully\")\n",
    "\n",
    "        except Exception as e:\n",
    "            print(\"Error: \" + str(e))\n",
    "\n",
    "\n",
    "if __name__ == \"__main__\":\n",
    "    main()\n"
   ]
  },
  {
   "cell_type": "code",
   "execution_count": null,
   "id": "316a1273",
   "metadata": {},
   "outputs": [],
   "source": []
  }
 ],
 "metadata": {
  "kernelspec": {
   "display_name": "Python 3 (ipykernel)",
   "language": "python",
   "name": "python3"
  },
  "language_info": {
   "codemirror_mode": {
    "name": "ipython",
    "version": 3
   },
   "file_extension": ".py",
   "mimetype": "text/x-python",
   "name": "python",
   "nbconvert_exporter": "python",
   "pygments_lexer": "ipython3",
   "version": "3.10.9"
  }
 },
 "nbformat": 4,
 "nbformat_minor": 5
}
